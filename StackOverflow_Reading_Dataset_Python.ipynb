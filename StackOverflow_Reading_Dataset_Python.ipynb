{
 "cells": [
  {
   "cell_type": "markdown",
   "metadata": {},
   "source": [
    "# StackOverflow Reading Big Dataset"
   ]
  },
  {
   "cell_type": "code",
   "execution_count": 1,
   "metadata": {},
   "outputs": [],
   "source": [
    "import findspark\n",
    "findspark.init()\n",
    "\n",
    "# Load Python Libraries\n",
    "from pyspark import SparkContext\n",
    "from pyspark.sql import SparkSession\n",
    "from pyspark.sql.types import *\n",
    "\n",
    "import time\n",
    "start_time = time.time()\n",
    "\n",
    "#import matplotlib.pyplot as plt\n",
    "#%matplotlib inline\n",
    "\n",
    "#Set dataset path\n",
    "data_path='/data/textdata/StackOverflow/SOTorrent_Dataset_2018-09-23/'"
   ]
  },
  {
   "cell_type": "code",
   "execution_count": 2,
   "metadata": {},
   "outputs": [],
   "source": [
    "# Create Spark Session Environment\n",
    "spark = SparkSession.builder\\\n",
    "       .master(\"local[*]\")\\\n",
    "       .appName(\"StackOverflowReadDataset\")\\\n",
    "       .getOrCreate()\n",
    "\n",
    "# create the Spark Context\n",
    "#sc = spark.sparkContext\n",
    "\n",
    "#sqlContext = SQLContext(spark)"
   ]
  },
  {
   "cell_type": "markdown",
   "metadata": {},
   "source": [
    "## Reading Data\n",
    "\n",
    "### 1- Badges Database"
   ]
  },
  {
   "cell_type": "code",
   "execution_count": 3,
   "metadata": {},
   "outputs": [
    {
     "name": "stdout",
     "output_type": "stream",
     "text": [
      "+-----+------+-------+--------------------+-----+--------+\n",
      "|   Id|UserId|   Name|                Date|Class|TagBased|\n",
      "+-----+------+-------+--------------------+-----+--------+\n",
      "|82946|  3718|Teacher|2008-09-15 08:55:...|    3|       0|\n",
      "|82947|   994|Teacher|2008-09-15 08:55:...|    3|       0|\n",
      "|82949|  3893|Teacher|2008-09-15 08:55:...|    3|       0|\n",
      "|82950|  4591|Teacher|2008-09-15 08:55:...|    3|       0|\n",
      "|82951|  5196|Teacher|2008-09-15 08:55:...|    3|       0|\n",
      "+-----+------+-------+--------------------+-----+--------+\n",
      "only showing top 5 rows\n",
      "\n"
     ]
    }
   ],
   "source": [
    "# Read badges\n",
    "\n",
    "badges_schema = StructType([\n",
    "    StructField('Id', IntegerType(), True),\n",
    "    StructField('UserId', IntegerType(), True),\n",
    "    StructField('Name', StringType(), True),\n",
    "    StructField('Date', TimestampType(), True),\n",
    "    StructField('Class', ByteType(), True),\n",
    "    StructField('TagBased', ByteType(), True)\n",
    "])\n",
    "\n",
    "badges = spark.read.format(\"csv\").options(sep=',',dateFormat=\"yyyy-MM-dd'T'HH:mm:ss.SSS\",header='true')\\\n",
    "         .load(data_path+\"Badges.csv\",schema=badges_schema)\n",
    "\n",
    "#badges.dtypes\n",
    "badges.show(5)"
   ]
  },
  {
   "cell_type": "markdown",
   "metadata": {},
   "source": [
    "### 2- Comments Database"
   ]
  },
  {
   "cell_type": "code",
   "execution_count": 4,
   "metadata": {},
   "outputs": [
    {
     "name": "stdout",
     "output_type": "stream",
     "text": [
      "+---+------+-----+--------------------+--------------------+---------------+------+\n",
      "| Id|PostId|Score|                Text|        CreationDate|UserDisplayName|UserId|\n",
      "+---+------+-----+--------------------+--------------------+---------------+------+\n",
      "|  2| 35314|    8|Yeah, I didn't be...|2008-09-06 08:09:...|              3|  null|\n",
      "|  4| 35195|    0|I don't see an ac...|2008-09-06 08:42:...|            380|  null|\n",
      "|  9| 47239|    0|Jonathan: Wow!  T...|2008-09-06 12:26:...|           4550|  null|\n",
      "| 10| 45651|    6|It will help if y...|2008-09-06 13:38:...|            242|  null|\n",
      "| 12| 47428|    3|One of the things...|2008-09-06 13:51:...|           4642|  null|\n",
      "+---+------+-----+--------------------+--------------------+---------------+------+\n",
      "only showing top 5 rows\n",
      "\n"
     ]
    }
   ],
   "source": [
    "# Read Comments\n",
    "\n",
    "comments_schema = StructType([\n",
    "    StructField('Id', IntegerType()),\n",
    "    StructField('PostId', IntegerType()),\n",
    "    StructField('Score', IntegerType()),\n",
    "    StructField('Text', StringType()),\n",
    "    StructField('CreationDate', TimestampType()),\n",
    "    StructField('UserDisplayName', StringType()),\n",
    "    StructField('UserId', IntegerType())\n",
    "])\n",
    "\n",
    "\n",
    "comments = spark.read.format(\"csv\").options(sep=',',dateFormat=\"yyyy-MM-dd'T'HH:mm:ss.SSS\",header='true')\\\n",
    "           .load(data_path+\"Comments.csv\",schema=comments_schema)\n",
    "\n",
    "#comments.dtypes\n",
    "comments.show(5)\n",
    "#print((comments.count(), len(comments.columns)))"
   ]
  },
  {
   "cell_type": "markdown",
   "metadata": {},
   "source": [
    "### 3- CommentUrl Database"
   ]
  },
  {
   "cell_type": "code",
   "execution_count": 5,
   "metadata": {},
   "outputs": [
    {
     "name": "stdout",
     "output_type": "stream",
     "text": [
      "+---+------+---------+--------+------------+--------------------+--------+-----------------+--------------------+--------------------+---------------+------------------+--------------------+--------------------+\n",
      "| Id|PostId|CommentId|LinkType|LinkPosition|          LinkAnchor|Protocol|       RootDomain|      CompleteDomain|                Path|          Query|FragmentIdentifier|                 Url|           FullMatch|\n",
      "+---+------+---------+--------+------------+--------------------+--------+-----------------+--------------------+--------------------+---------------+------------------+--------------------+--------------------+\n",
      "|  1| 47428|       12|BareLink|      Middle|http://i.love.pet...|    http|         pets.com|     i.love.pets.com|    search/cats+dogs|           null|              null|http://i.love.pet...|http://i.love.pet...|\n",
      "|  2| 47428|       12|BareLink|         End|http://i.love.pet...|    http|         pets.com|     i.love.pets.com|  search/pug+puppies|           null|              null|http://i.love.pet...|http://i.love.pet...|\n",
      "|  3| 47937|       52|BareLink|      Middle|http://www.codepl...|    http|     codeplex.com|    www.codeplex.com|aspnet/Release/Pr...|ReleaseId=13356|              null|http://www.codepl...|http://www.codepl...|\n",
      "|  4| 48128|       87|BareLink|      Middle|http://msdn.micro...|    http|    microsoft.com|  msdn.microsoft.com|en-us/library/sys...|           null|              null|http://msdn.micro...|http://msdn.micro...|\n",
      "|  5| 44921|       93|BareLink|   Beginning|http://beta.stack...|    http|stackoverflow.com|beta.stackoverflo...|     questions/44905|           null|             48259|http://beta.stack...|http://beta.stack...|\n",
      "+---+------+---------+--------+------------+--------------------+--------+-----------------+--------------------+--------------------+---------------+------------------+--------------------+--------------------+\n",
      "only showing top 5 rows\n",
      "\n"
     ]
    }
   ],
   "source": [
    "## Read CommentUrl\n",
    "\n",
    "commenturl_schema = StructType([\n",
    "    StructField('Id', IntegerType()),\n",
    "    StructField('PostId', IntegerType()),\n",
    "    StructField('CommentId', IntegerType()),\n",
    "    StructField('LinkType', StringType()),\n",
    "    StructField('LinkPosition', StringType()),\n",
    "    StructField('LinkAnchor', StringType()),\n",
    "    StructField('Protocol', StringType()),\n",
    "    StructField('RootDomain', StringType()),\n",
    "    StructField('CompleteDomain', StringType()),\n",
    "    StructField('Path', StringType()),\n",
    "    StructField('Query', StringType()),\n",
    "    StructField('FragmentIdentifier', StringType()),\n",
    "    StructField('Url', StringType()),\n",
    "    StructField('FullMatch', StringType())\n",
    "])\n",
    "\n",
    "#Extrai dados de YouTube Links CSV para Dataframe Spark\n",
    "commenturl = spark.read.format(\"csv\").options(sep=',',quote='\"',header='false')\\\n",
    "             .load(data_path+\"CommentUrl.csv\",schema=commenturl_schema)\n",
    "\n",
    "#commenturl.dtypes\n",
    "commenturl.show(5)"
   ]
  },
  {
   "cell_type": "markdown",
   "metadata": {},
   "source": [
    "### 4- PostBlockDiff Database"
   ]
  },
  {
   "cell_type": "code",
   "execution_count": 6,
   "metadata": {},
   "outputs": [
    {
     "name": "stdout",
     "output_type": "stream",
     "text": [
      "+---+--------+-------------+-------+------------------+-----------------+-----------+----------------------+------------------------+--------------------+\n",
      "| Id|  PostId|PostHistoryId|LocalId|PostBlockVersionId|PredPostHistoryId|PredLocalId|PredPostBlockVersionId|PostBlockDiffOperationId|                Text|\n",
      "+---+--------+-------------+-------+------------------+-----------------+-----------+----------------------+------------------------+--------------------+\n",
      "|  1|10139973|     23443092|      1|               105|         23242237|          1|                    96|                      -1|\"How can I \"\"echo...|\n",
      "|  2|10139973|     23443092|      1|               105|         23242237|          1|                    96|                       1|\"anyone knows how...|\n",
      "|  3|10139973|     23443092|      1|               105|         23242237|          1|                    96|                       0|          The query:|\n",
      "|  4|10139973|     23443092|      2|               106|         23242237|          2|                   100|                       0|    SELECT COUNT(...|\n",
      "|  5|10139973|     23443092|      3|               107|         23242237|          3|                   101|                      -1|Jreviews is based...|\n",
      "+---+--------+-------------+-------+------------------+-----------------+-----------+----------------------+------------------------+--------------------+\n",
      "only showing top 5 rows\n",
      "\n"
     ]
    }
   ],
   "source": [
    "## Read PostBlockDiff\n",
    "\n",
    "postblockdiff_schema = StructType([\n",
    "    StructField('Id', IntegerType()),\n",
    "    StructField('PostId', IntegerType()),\n",
    "    StructField('PostHistoryId', IntegerType()),\n",
    "    StructField('LocalId', IntegerType()),\n",
    "    StructField('PostBlockVersionId', IntegerType()),\n",
    "    StructField('PredPostHistoryId', IntegerType()),\n",
    "    StructField('PredLocalId', IntegerType()),\n",
    "    StructField('PredPostBlockVersionId', IntegerType()),\n",
    "    StructField('PostBlockDiffOperationId', IntegerType()),    \n",
    "    StructField('Text', StringType()),\n",
    "])\n",
    "\n",
    "#Extrai dados de YouTube Links CSV para Dataframe Spark\n",
    "postblockdiff = spark.read.format(\"csv\").options(sep=',',header='false')\\\n",
    "                .load(data_path+\"PostBlockDiff.csv\",schema=postblockdiff_schema)\n",
    "\n",
    "#postblockdiff.dtypes\n",
    "postblockdiff.show(5)"
   ]
  },
  {
   "cell_type": "markdown",
   "metadata": {},
   "source": [
    "### 5- PostBlockVersion Database"
   ]
  },
  {
   "cell_type": "code",
   "execution_count": 7,
   "metadata": {},
   "outputs": [
    {
     "name": "stdout",
     "output_type": "stream",
     "text": [
      "+----+---------------+--------+-------------+-------+----------------------+-----------------+-----------+----------------------+-----------------+-----------+---------+--------------+---------+---------+------+---------+--------------------+\n",
      "|  Id|PostBlockTypeId|  PostId|PostHistoryId|LocalId|PredPostBlockVersionId|PredPostHistoryId|PredLocalId|RootPostBlockVersionId|RootPostHistoryId|RootLocalId|PredEqual|PredSimilarity|PredCount|SuccCount|Length|LineCount|             Content|\n",
      "+----+---------------+--------+-------------+-------+----------------------+-----------------+-----------+----------------------+-----------------+-----------+---------+--------------+---------+---------+------+---------+--------------------+\n",
      "|   1|              1|       4|      1049748|      1|                  null|             null|       null|                     1|          1049748|          1|     null|          null|        0|        1|    81|        2|I'm new to C#, an...|\n",
      "|   2|              2|       4|      1049748|      2|                  null|             null|       null|                     2|          1049748|          2|     null|          null|        0|        1|    67|        2|    decimal trans...|\n",
      "|   3|              1|       4|      1049748|      3|                  null|             null|       null|                     3|          1049748|          3|     null|          null|        0|        1|   219|        3|When I try to bui...|\n",
      "|null|           null|    null|         null|   null|                  null|             null|       null|                  null|             null|       null|     null|          null|     null|     null|  null|     null|                null|\n",
      "|   5|              1|44655755|    149795765|      1|                  null|             null|       null|                     5|        149795765|          1|     null|          null|        0|        0|    88|        1|For an ionic 2 ap...|\n",
      "+----+---------------+--------+-------------+-------+----------------------+-----------------+-----------+----------------------+-----------------+-----------+---------+--------------+---------+---------+------+---------+--------------------+\n",
      "only showing top 5 rows\n",
      "\n"
     ]
    }
   ],
   "source": [
    "## read PostBlockVersion.csv.gz\n",
    "## \n",
    "\n",
    "postblockversion_schema = StructType([\n",
    "    StructField('Id', IntegerType(), True),\n",
    "    StructField('PostBlockTypeId', ByteType(), True),\n",
    "    StructField('PostId', IntegerType(), True),\n",
    "    StructField('PostHistoryId', IntegerType(), True),\n",
    "    StructField('LocalId', IntegerType(), True),\n",
    "    StructField('PredPostBlockVersionId', IntegerType(), True),\n",
    "    StructField('PredPostHistoryId', IntegerType(), True),    \n",
    "    StructField('PredLocalId', IntegerType(), True),    \n",
    "    StructField('RootPostBlockVersionId', IntegerType(), True),    \n",
    "    StructField('RootPostHistoryId', IntegerType(), True),    \n",
    "    StructField('RootLocalId', IntegerType(), True),    \n",
    "    StructField('PredEqual', BooleanType(), True),    \n",
    "    StructField('PredSimilarity', DoubleType(), True),    \n",
    "    StructField('PredCount', IntegerType(), True),    \n",
    "    StructField('SuccCount', IntegerType(), True),    \n",
    "    StructField('Length', IntegerType(), True),    \n",
    "    StructField('LineCount', IntegerType(), True),    \n",
    "    StructField('Content', StringType(), True)\n",
    "])\n",
    "\n",
    "#Read CSV to Dataframe\n",
    "postblockversion = spark.read.format(\"csv\").options(sep=',',quote='\"',dateFormat=\"yyyy-MM-dd'T'HH:mm:ss.SSS\",header='false')\\\n",
    "                   .load(data_path+\"PostBlockVersion.csv\",schema=postblockversion_schema)\n",
    "\n",
    "#postblockversion.dtypes\n",
    "postblockversion.show(5)"
   ]
  },
  {
   "cell_type": "markdown",
   "metadata": {},
   "source": [
    "### 6- PostHistory Database"
   ]
  },
  {
   "cell_type": "code",
   "execution_count": 8,
   "metadata": {},
   "outputs": [],
   "source": [
    "# Read PostHistory.xml.gz\n",
    "\n",
    "posthistory_schema = StructType([\n",
    "    StructField('Id', IntegerType()),\n",
    "    StructField('PostHistoryTypeId', ByteType()),\n",
    "    StructField('PostId', IntegerType()),\n",
    "    StructField('RevisionGUID', StringType()),\n",
    "    StructField('CreationDate', TimestampType()),\n",
    "    StructField('UserId', IntegerType()),\n",
    "    StructField('UserDisplayName', StringType()),\n",
    "    StructField('Comment', StringType()),\n",
    "    StructField('Text', StringType())\n",
    "])\n",
    "\n",
    "\n",
    "#Read CSV to Dataframe\n",
    "#posthistory = spark.read.format(\"csv\").options(sep=',',dateFormat=\"yyyy-MM-dd'T'HH:mm:ss.SSS\",header='true')\\\n",
    "#            .load(data_path+\"PostHistory.csv\",schema=posthistory_schema)\n",
    "\n",
    "\n",
    "#posthistory = spark.read \\\n",
    "#              .format(\"com.databricks.spark.xml\") \\\n",
    "#              .option(\"rowTag\", \"row\") \\\n",
    "#              .options(samplingRatio=0.1) \\\n",
    "#              .load(data_path+\"PostHistory.xml.gz\",schema=posthistory_schema)\n",
    "\n",
    "#posthistory.dtypes\n",
    "#posthistory.show(5)"
   ]
  },
  {
   "cell_type": "markdown",
   "metadata": {},
   "source": [
    "### 7- PostLinks Database"
   ]
  },
  {
   "cell_type": "code",
   "execution_count": 9,
   "metadata": {},
   "outputs": [
    {
     "name": "stdout",
     "output_type": "stream",
     "text": [
      "+---+--------------------+------+-------------+----------+\n",
      "| Id|        CreationDate|PostId|RelatedPostId|LinkTypeId|\n",
      "+---+--------------------+------+-------------+----------+\n",
      "| 19|2010-04-26 02:59:...|   109|        32412|         1|\n",
      "| 37|2010-04-26 02:59:...|  1970|       617600|         1|\n",
      "| 42|2010-04-26 02:59:...|  2154|      2451138|         1|\n",
      "| 48|2010-04-26 02:59:...|  2483|       496096|         1|\n",
      "| 52|2010-04-26 02:59:...|  2572|       209329|         1|\n",
      "+---+--------------------+------+-------------+----------+\n",
      "only showing top 5 rows\n",
      "\n"
     ]
    }
   ],
   "source": [
    "# Read PostLinks.xml.gz\n",
    "\n",
    "postlinks_schema = StructType([\n",
    "    StructField('Id', IntegerType()),\n",
    "    StructField('CreationDate', TimestampType()),\n",
    "    StructField('PostId', IntegerType()),\n",
    "    StructField('RelatedPostId', IntegerType()),\n",
    "    StructField('LinkTypeId', ByteType())\n",
    "])\n",
    "\n",
    "#Read CSV to Dataframe\n",
    "postlinks = spark.read.format(\"csv\").options(sep=',',dateFormat=\"yyyy-MM-dd'T'HH:mm:ss.SSS\",header='true')\\\n",
    "            .load(data_path+\"PostLinks.csv\",schema=postlinks_schema)\n",
    "\n",
    "#postlinks.dtypes\n",
    "postlinks.show(5)\n",
    "#postlinks.schema"
   ]
  },
  {
   "cell_type": "markdown",
   "metadata": {},
   "source": [
    "### 8- PostReferenceGH Database"
   ]
  },
  {
   "cell_type": "code",
   "execution_count": 10,
   "metadata": {},
   "outputs": [
    {
     "name": "stdout",
     "output_type": "stream",
     "text": [
      "+--------------------+--------------------+------+--------------------+-------+-----+------+--------+----------+--------------------+--------------------+\n",
      "|              FileId|            RepoName|Branch|                Path|FileExt| Size|Copies|  PostId|PostTypeId|               SOUrl|               GHUrl|\n",
      "+--------------------+--------------------+------+--------------------+-------+-----+------+--------+----------+--------------------+--------------------+\n",
      "|227a8be680dfab54c...|at15/hadoop-spark...|master|provision/cluster...|    .sh|  537|     2| 4774054|         1|http://stackoverf...|https://raw.githu...|\n",
      "|8cc491d8c007307b2...| gamepopper/MAN-Haxe|master|      sample/Main.hx|    .hx| 3967|     1|26877634|         1|http://stackoverf...|https://raw.githu...|\n",
      "|fb21b030a68e92cec...|goaty92/Definitel...|master|angularjs/legacy/...|    .ts|53896|   332|17201854|         1|http://stackoverf...|https://raw.githu...|\n",
      "|c0b9853033d70e493...|    apache/zookeeper|master|src/java/test/bin...|    .sh|25998|    12| 2659808|         2|http://stackoverf...|https://raw.githu...|\n",
      "|9f1d56aa232bf1eee...|Dokaponteam/ITF_P...|master|xampp/src/xampp-c...|   .pas|26484|     2| 5078895|         1|http://stackoverf...|https://raw.githu...|\n",
      "+--------------------+--------------------+------+--------------------+-------+-----+------+--------+----------+--------------------+--------------------+\n",
      "only showing top 5 rows\n",
      "\n"
     ]
    }
   ],
   "source": [
    "## Read PostReferenceGH\n",
    "\n",
    "postreferencegh_schema = StructType([\n",
    "    StructField('FileId', StringType()),\n",
    "    StructField('RepoName', StringType()),\n",
    "    StructField('Branch', StringType()),\n",
    "    StructField('Path', StringType()),\n",
    "    StructField('FileExt', StringType()),\n",
    "    StructField('Size', IntegerType()),\n",
    "    StructField('Copies', IntegerType()),\n",
    "    StructField('PostId', IntegerType()),\n",
    "    StructField('PostTypeId', ByteType()),\n",
    "    StructField('SOUrl', StringType()),\n",
    "    StructField('GHUrl', StringType())\n",
    "])\n",
    "\n",
    "#Extrai dados  CSV para Dataframe Spark\n",
    "postreferencegh = spark.read.format(\"csv\").options(sep=',',header='true')\\\n",
    "                 .load(data_path+\"PostReferenceGH.csv\",schema=postreferencegh_schema)\n",
    "\n",
    "#postreferencegh.dtypes\n",
    "postreferencegh.show(5)"
   ]
  },
  {
   "cell_type": "markdown",
   "metadata": {},
   "source": [
    "### 9- Posts Database"
   ]
  },
  {
   "cell_type": "code",
   "execution_count": 11,
   "metadata": {},
   "outputs": [
    {
     "name": "stdout",
     "output_type": "stream",
     "text": [
      "+----+----------+----------------+--------+--------------------+-----+---------+--------------------+-----------+----------------+----------------+---------------------+------------+----------------+-----+----+-----------+------------+-------------+\n",
      "|  Id|PostTypeId|AcceptedAnswerId|ParentId|        CreationDate|Score|ViewCount|                Body|OwnerUserId|OwnerDisplayName|LastEditorUserId|LastEditorDisplayName|LastEditDate|LastActivityDate|Title|Tags|AnswerCount|CommentCount|FavoriteCount|\n",
      "+----+----------+----------------+--------+--------------------+-----+---------+--------------------+-----------+----------------+----------------+---------------------+------------+----------------+-----+----+-----------+------------+-------------+\n",
      "|   4|         1|               7|    null|2008-07-31 21:42:...|  573|    37080|<p>I want to use ...|       null|            null|            null|                 null|        null|            null| null|null|       null|        null|         null|\n",
      "|null|      null|            null|    null|                null| null|     null|                null|       null|            null|            null|                 null|        null|            null| null|null|       null|        null|         null|\n",
      "|null|      null|            null|    null|                null| null|     null|                null|       null|            null|            null|                 null|        null|            null| null|null|       null|        null|         null|\n",
      "|null|      null|            null|    null|                null| null|     null|                null|       null|            null|            null|                 null|        null|            null| null|null|       null|        null|         null|\n",
      "|null|      null|            null|    null|                null| null|     null|                null|       null|            null|            null|                 null|        null|            null| null|null|       null|        null|         null|\n",
      "+----+----------+----------------+--------+--------------------+-----+---------+--------------------+-----------+----------------+----------------+---------------------+------------+----------------+-----+----+-----------+------------+-------------+\n",
      "only showing top 5 rows\n",
      "\n"
     ]
    }
   ],
   "source": [
    "#Read Posts.xml.gz\n",
    "\n",
    "posts_schema = StructType([\n",
    "    StructField('Id', IntegerType(), True),\n",
    "    StructField('PostTypeId', ByteType(), True),\n",
    "    StructField('AcceptedAnswerId', IntegerType(), True),\n",
    "    StructField('ParentId', IntegerType(), True),\n",
    "    StructField('CreationDate', TimestampType(), True),\n",
    "    StructField('Score', IntegerType(), True),\n",
    "    StructField('ViewCount', IntegerType(), True),\n",
    "    StructField('Body', StringType(), True),\n",
    "    StructField('OwnerUserId', IntegerType(), True),\n",
    "    StructField('OwnerDisplayName', StringType(), True),\n",
    "    StructField('LastEditorUserId', IntegerType(), True),\n",
    "    StructField('LastEditorDisplayName', StringType(), True),\n",
    "    StructField('LastEditDate', TimestampType(), True),\n",
    "    StructField('LastActivityDate', TimestampType(), True),\n",
    "    StructField('Title', StringType(), True),\n",
    "    StructField('Tags', StringType(), True),\n",
    "    StructField('AnswerCount', IntegerType(), True),\n",
    "    StructField('CommentCount', IntegerType(), True),\n",
    "    StructField('FavoriteCount', IntegerType(), True)\n",
    "])\n",
    "\n",
    "#Read CSV to Dataframe\n",
    "posts = spark.read.format(\"csv\").options(sep=',',quote='\"',dateFormat=\"yyyy-MM-dd'T'HH:mm:ss.SSS\",escape='\"',header='true')\\\n",
    "        .load(data_path+\"Posts.csv\",schema=posts_schema)\n",
    "\n",
    "\n",
    "#    StructField('DeletionDate', TimestampType()),\n",
    "#    StructField('ClosedDate', TimestampType()),\n",
    "#    StructField('CommunityOwnedDate', TimestampType())\n",
    "\n",
    "#posts.dtypes\n",
    "posts.show(5)"
   ]
  },
  {
   "cell_type": "markdown",
   "metadata": {},
   "source": [
    "### 10- PostVersion Database"
   ]
  },
  {
   "cell_type": "code",
   "execution_count": 12,
   "metadata": {},
   "outputs": [
    {
     "name": "stdout",
     "output_type": "stream",
     "text": [
      "+---+--------+----------+-------------+-----------------+-------------------+-----------------+-----------------+\n",
      "| Id|  PostId|PostTypeId|PostHistoryId|PostHistoryTypeId|       CreationDate|PredPostHistoryId|SuccPostHistoryId|\n",
      "+---+--------+----------+-------------+-----------------+-------------------+-----------------+-----------------+\n",
      "|  1|44655755|         1|    149795765|                2|2017-06-20 14:24:16|             null|             null|\n",
      "|  2|10139969|         1|     23242227|                2|2012-04-13 11:29:26|             null|             null|\n",
      "|  3|27827982|         1|     81132051|                2|2015-01-07 20:22:41|             null|             null|\n",
      "|  4|44655757|         1|    149795776|                2|2017-06-20 14:24:25|             null|             null|\n",
      "|  5|10139970|         1|     23242230|                2|2012-04-13 11:29:27|             null|             null|\n",
      "+---+--------+----------+-------------+-----------------+-------------------+-----------------+-----------------+\n",
      "only showing top 5 rows\n",
      "\n"
     ]
    }
   ],
   "source": [
    "## Read PostVersion\n",
    "\n",
    "postversion_schema = StructType([\n",
    "    StructField('Id', IntegerType()),\n",
    "    StructField('PostId', IntegerType()),\n",
    "    StructField('PostTypeId', ByteType()),\n",
    "    StructField('PostHistoryId', IntegerType()),\n",
    "    StructField('PostHistoryTypeId', ByteType()),\n",
    "    StructField('CreationDate', TimestampType()),\n",
    "    StructField('PredPostHistoryId', IntegerType()),\n",
    "    StructField('SuccPostHistoryId', IntegerType())\n",
    "])\n",
    "\n",
    "#Extrai dados de CSV para Dataframe Spark\n",
    "postversion = spark.read.format(\"csv\").options(sep=',',header='false',dateFormat=\"yyyy-MM-dd'T'HH:mm:ss.SSS\")\\\n",
    "              .load(data_path+\"PostVersion.csv\",schema=postversion_schema)\n",
    "\n",
    "#postversion.schema\n",
    "#postversion.dtypes\n",
    "postversion.show(5)"
   ]
  },
  {
   "cell_type": "markdown",
   "metadata": {},
   "source": [
    "### 11- PostVersionUrl Database"
   ]
  },
  {
   "cell_type": "code",
   "execution_count": 13,
   "metadata": {},
   "outputs": [
    {
     "name": "stdout",
     "output_type": "stream",
     "text": [
      "+---+--------+-------------+------------------+--------------------+------------+--------------------+--------+-------------+--------------------+--------------------+-----+------------------+--------------------+--------------------+\n",
      "| Id|  PostId|PostHistoryId|PostBlockVersionId|            LinkType|LinkPosition|          LinkAnchor|Protocol|   RootDomain|      CompleteDomain|                Path|Query|FragmentIdentifier|                 Url|           FullMatch|\n",
      "+---+--------+-------------+------------------+--------------------+------------+--------------------+--------+-------------+--------------------+--------------------+-----+------------------+--------------------+--------------------+\n",
      "|  1|44655755|    149795765|                21|MarkdownLinkRefer...|         End|[![enter image de...|   https|    imgur.com|   i.stack.imgur.com|           kjzj6.png| null|              null|https://i.stack.i...|[![enter image de...|\n",
      "|  2|44655755|    149795765|                21|MarkdownLinkRefer...|         End|[![enter image de...|   https|    imgur.com|   i.stack.imgur.com|           2n0G1.png| null|              null|https://i.stack.i...|[![enter image de...|\n",
      "|  3|44655762|    149795790|                92|            BareLink|         End|https://hassantar...|   https|wordpress.com|hassantariqblog.w...|2017/02/06/nodejs...| null|              null|https://hassantar...|https://hassantar...|\n",
      "|  4|19101525|     48345835|               123|          AnchorLink|      Middle|\"<a href=\"\"http:/...|    http|    imgur.com|           imgur.com|             Viz2rir| null|              null|http://imgur.com/...|\"<a href=\"\"http:/...|\n",
      "|  5|19101525|     48345835|               123|          AnchorLink|         End|\"<a href=\"\"http:/...|    http|    imgur.com|           imgur.com|             OaAFvUJ| null|              null|http://imgur.com/...|\"<a href=\"\"http:/...|\n",
      "+---+--------+-------------+------------------+--------------------+------------+--------------------+--------+-------------+--------------------+--------------------+-----+------------------+--------------------+--------------------+\n",
      "only showing top 5 rows\n",
      "\n"
     ]
    }
   ],
   "source": [
    "## Read PostVersionUrl\n",
    "\n",
    "postversionurl_schema = StructType([\n",
    "    StructField('Id', IntegerType()),\n",
    "    StructField('PostId', IntegerType()),\n",
    "    StructField('PostHistoryId', IntegerType()),\n",
    "    StructField('PostBlockVersionId', IntegerType()),\n",
    "    StructField('LinkType', StringType()),\n",
    "    StructField('LinkPosition', StringType()),\n",
    "    StructField('LinkAnchor', StringType()),\n",
    "    StructField('Protocol', StringType()),\n",
    "    StructField('RootDomain', StringType()),\n",
    "    StructField('CompleteDomain', StringType()),\n",
    "    StructField('Path', StringType()),\n",
    "    StructField('Query', StringType()),\n",
    "    StructField('FragmentIdentifier', StringType()),\n",
    "    StructField('Url', StringType()),\n",
    "    StructField('FullMatch', StringType())\n",
    "])\n",
    "\n",
    "    \n",
    "#    StructField('PostTypeId', IntegerType()),\n",
    "#    StructField('PostHistoryTypeId', IntegerType()),\n",
    "#    StructField('CreationDate', TimestampType()),\n",
    "#    StructField('PredPostHistoryId', IntegerType()),\n",
    "#    StructField('SuccPostHistoryId', IntegerType())\n",
    "\n",
    "\n",
    "#Extrai dados CSV para Dataframe Spark\n",
    "postversionurl = spark.read.format(\"csv\").options(sep=',',header='false')\\\n",
    "                 .load(data_path+\"PostVersionUrl.csv\",schema=postversionurl_schema)\n",
    "\n",
    "#postversionurl.dtypes\n",
    "postversionurl.show(5)"
   ]
  },
  {
   "cell_type": "markdown",
   "metadata": {},
   "source": [
    "### 12- Tags Database"
   ]
  },
  {
   "cell_type": "code",
   "execution_count": 14,
   "metadata": {},
   "outputs": [
    {
     "name": "stdout",
     "output_type": "stream",
     "text": [
      "+---+----------+-------+-------------+----------+\n",
      "| Id|   TagName|  Count|ExcerptPostId|WikiPostId|\n",
      "+---+----------+-------+-------------+----------+\n",
      "|  1|      .net| 272947|      3624959|   3607476|\n",
      "|  2|      html| 771613|      3673183|   3673182|\n",
      "|  3|javascript|1675041|      3624960|   3607052|\n",
      "|  4|       css| 551318|      3644670|   3644669|\n",
      "|  5|       php|1223812|      3624936|   3607050|\n",
      "+---+----------+-------+-------------+----------+\n",
      "only showing top 5 rows\n",
      "\n"
     ]
    }
   ],
   "source": [
    "# Read Tags.csv\n",
    "\n",
    "tags_schema = StructType([\n",
    "    StructField('Id', IntegerType()),\n",
    "    StructField('TagName', StringType()),\n",
    "    StructField('Count', IntegerType()),\n",
    "    StructField('ExcerptPostId', IntegerType()),\n",
    "    StructField('WikiPostId', IntegerType())\n",
    "])\n",
    "\n",
    "#Extrai dados CSV para Dataframe Spark\n",
    "tags = spark.read.format(\"csv\").options(sep=',',header='true')\\\n",
    "       .load(data_path+\"Tags.csv\",schema=tags_schema)\n",
    "\n",
    "#tags.dtypes\n",
    "tags.show(5)"
   ]
  },
  {
   "cell_type": "markdown",
   "metadata": {},
   "source": [
    "### 13- TitleVersion Database"
   ]
  },
  {
   "cell_type": "code",
   "execution_count": 15,
   "metadata": {},
   "outputs": [
    {
     "name": "stdout",
     "output_type": "stream",
     "text": [
      "+---+--------+----------+-------------+-----------------+-------------------+--------------------+-----------------+----------------+-----------------+----------------+\n",
      "| Id|  PostId|PostTypeId|PostHistoryId|PostHistoryTypeId|       CreationDate|               Title|PredPostHistoryId|PredEditDistance|SuccPostHistoryId|SuccEditDistance|\n",
      "+---+--------+----------+-------------+-----------------+-------------------+--------------------+-----------------+----------------+-----------------+----------------+\n",
      "|  1|44655755|         1|    149795766|                1|2017-06-20 14:24:16|Ionic 2 applicati...|             null|            null|             null|            null|\n",
      "|  2|10139969|         1|     23242228|                1|2012-04-13 11:29:26|Connecting to SQL...|             null|            null|             null|            null|\n",
      "|  3|27827982|         1|     81132052|                1|2015-01-07 20:22:41|how to dynamicall...|             null|            null|             null|            null|\n",
      "|  4|44655757|         1|    149795777|                1|2017-06-20 14:24:25|\"In a composer fi...|             null|            null|             null|            null|\n",
      "|  5|10139970|         1|     23242231|                1|2012-04-13 11:29:27|please help me wi...|             null|            null|             null|            null|\n",
      "+---+--------+----------+-------------+-----------------+-------------------+--------------------+-----------------+----------------+-----------------+----------------+\n",
      "only showing top 5 rows\n",
      "\n"
     ]
    }
   ],
   "source": [
    "## Read TitleVersion\n",
    "\n",
    "titleversion_schema = StructType([\n",
    "    StructField('Id', IntegerType()),\n",
    "    StructField('PostId', IntegerType()),\n",
    "    StructField('PostTypeId', ByteType()),\n",
    "    StructField('PostHistoryId', IntegerType()),\n",
    "    StructField('PostHistoryTypeId', ByteType()),\n",
    "    StructField('CreationDate', TimestampType()),\n",
    "    StructField('Title', StringType()),\n",
    "    StructField('PredPostHistoryId', IntegerType()),\n",
    "    StructField('PredEditDistance', IntegerType()),\n",
    "    StructField('SuccPostHistoryId', IntegerType()),\n",
    "    StructField('SuccEditDistance', IntegerType())\n",
    "])\n",
    "\n",
    "#Extrai dados CSV para Dataframe Spark\n",
    "titleversion = spark.read.format(\"csv\").options(sep=',',dateFormat=\"yyyy-MM-dd'T'HH:mm:ss.SSS\",header='false')\\\n",
    "               .load(data_path+\"TitleVersion.csv\",schema=titleversion_schema)\n",
    "\n",
    "#titleversion.schema\n",
    "#titleversion.dtypes\n",
    "titleversion.show(5)"
   ]
  },
  {
   "cell_type": "markdown",
   "metadata": {},
   "source": [
    "### 14- Users Database"
   ]
  },
  {
   "cell_type": "code",
   "execution_count": 16,
   "metadata": {},
   "outputs": [
    {
     "name": "stdout",
     "output_type": "stream",
     "text": [
      "+----+----------+-------------------+-----------+--------------------+--------------------+------------------+---------------+--------------------+-----+-------+---------+----+---------+---------+\n",
      "|  Id|Reputation|       CreationDate|DisplayName|      LastAccessDate|          WebsiteUrl|          Location|ProfileImageUrl|             AboutMe|Views|UpVotes|DownVotes| Age|AccountId|EmailHash|\n",
      "+----+----------+-------------------+-----------+--------------------+--------------------+------------------+---------------+--------------------+-----+-------+---------+----+---------+---------+\n",
      "|  -1|         1|2008-07-31 00:00:00|  Community|2008-08-26 00:16:...|http://meta.stack...|on the server farm|           null|<p>Hi, I'm not re...| null|   null|     null|null|     null|     null|\n",
      "|null|      null|               null|       null|                null|                null|              null|           null|                null| null|   null|     null|null|     null|     null|\n",
      "|null|      null|               null|       null|                null|                null|              null|           null|                null| null|   null|     null|null|     null|     null|\n",
      "|null|      null|               null|       null|                null|                null|              null|           null|                null| null|   null|     null|null|     null|     null|\n",
      "|null|      null|               null|       null|                null|                null|              null|           null|                null| null|   null|     null|null|     null|     null|\n",
      "+----+----------+-------------------+-----------+--------------------+--------------------+------------------+---------------+--------------------+-----+-------+---------+----+---------+---------+\n",
      "only showing top 5 rows\n",
      "\n"
     ]
    }
   ],
   "source": [
    "# Read Users.xml.gz\n",
    "\n",
    "users_schema = StructType([\n",
    "    StructField('Id', IntegerType()),\n",
    "    StructField('Reputation', IntegerType()),\n",
    "    StructField('CreationDate', TimestampType()),\n",
    "    StructField('DisplayName', StringType()),\n",
    "    StructField('LastAccessDate', TimestampType()),\n",
    "    StructField('WebsiteUrl', StringType()),\n",
    "    StructField('Location', StringType()),\n",
    "    StructField('ProfileImageUrl', StringType()),\n",
    "    StructField('AboutMe', StringType()),\n",
    "    StructField('Views', IntegerType()),\n",
    "    StructField('UpVotes', IntegerType()),\n",
    "    StructField('DownVotes', IntegerType()),\n",
    "    StructField('Age', IntegerType()),\n",
    "    StructField('AccountId', IntegerType()),\n",
    "    StructField('EmailHash', StringType())\n",
    "])\n",
    "\n",
    "#Extrai dados CSV para Dataframe Spark\n",
    "users = spark.read.format(\"csv\").options(sep=',',quote='\"',escape='\"',dateFormat=\"yyyy-MM-dd'T'HH:mm:ss.SSS\",header='true')\\\n",
    "        .load(data_path+\"Users.csv\",schema=users_schema)\n",
    "\n",
    "#users.dtypes\n",
    "users.show(5)"
   ]
  },
  {
   "cell_type": "markdown",
   "metadata": {},
   "source": [
    "### 15- Votes Database"
   ]
  },
  {
   "cell_type": "code",
   "execution_count": 17,
   "metadata": {},
   "outputs": [
    {
     "name": "stdout",
     "output_type": "stream",
     "text": [
      "+---+------+----------+-------------------+\n",
      "| Id|PostId|VoteTypeId|       CreationDate|\n",
      "+---+------+----------+-------------------+\n",
      "|  1|     1|         2|2008-07-31 00:00:00|\n",
      "|  2|     3|         2|2008-07-31 00:00:00|\n",
      "|  3|     2|         2|2008-07-31 00:00:00|\n",
      "|  4|     4|         2|2008-07-31 00:00:00|\n",
      "|  5|     6|         2|2008-07-31 00:00:00|\n",
      "+---+------+----------+-------------------+\n",
      "only showing top 5 rows\n",
      "\n"
     ]
    }
   ],
   "source": [
    "# Read Votes.xml.gz\n",
    "\n",
    "votes_schema = StructType([\n",
    "    StructField('Id', IntegerType()),\n",
    "    StructField('PostId', IntegerType()),\n",
    "    StructField('VoteTypeId', ByteType()),\n",
    "    StructField('CreationDate', TimestampType())\n",
    "])\n",
    "\n",
    "#    StructField('UserId', IntegerType()),\n",
    "#    StructField('BountyAmount', IntegerType())\n",
    "\n",
    "#Extrai dados CSV para Dataframe Spark\n",
    "votes = spark.read.format(\"csv\").options(sep=',',dateFormat=\"yyyy-MM-dd'T'HH:mm:ss.SSS\",header='true')\\\n",
    "        .load(data_path+\"Votes.csv\",schema=votes_schema)\n",
    "\n",
    "#votes.dtypes\n",
    "votes.show(5)"
   ]
  },
  {
   "cell_type": "markdown",
   "metadata": {},
   "source": [
    "## Bigdata Minning"
   ]
  },
  {
   "cell_type": "code",
   "execution_count": null,
   "metadata": {},
   "outputs": [],
   "source": [
    "#Start code here....."
   ]
  },
  {
   "cell_type": "markdown",
   "metadata": {},
   "source": [
    "## Finishing Bigdata Evaluation"
   ]
  },
  {
   "cell_type": "code",
   "execution_count": 18,
   "metadata": {},
   "outputs": [
    {
     "name": "stdout",
     "output_type": "stream",
     "text": [
      "--- Execution time: 182.19748616218567 seconds ---\n"
     ]
    }
   ],
   "source": [
    "spark.stop()\n",
    "print(\"--- Execution time: %s seconds ---\" % (time.time() - start_time))"
   ]
  }
 ],
 "metadata": {
  "kernelspec": {
   "display_name": "Python 3",
   "language": "python",
   "name": "python3"
  },
  "language_info": {
   "codemirror_mode": {
    "name": "ipython",
    "version": 3
   },
   "file_extension": ".py",
   "mimetype": "text/x-python",
   "name": "python",
   "nbconvert_exporter": "python",
   "pygments_lexer": "ipython3",
   "version": "3.6.7"
  }
 },
 "nbformat": 4,
 "nbformat_minor": 2
}
